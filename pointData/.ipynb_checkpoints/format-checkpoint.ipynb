{
 "cells": [
  {
   "cell_type": "code",
   "execution_count": 1,
   "id": "3af54705",
   "metadata": {},
   "outputs": [],
   "source": [
    "import os\n"
   ]
  },
  {
   "cell_type": "code",
   "execution_count": 2,
   "id": "0f6938f0",
   "metadata": {},
   "outputs": [],
   "source": [
    "path = \"./\"\n",
    "datanames = os.listdir(path)\n",
    "with open('label.txt','a') as file0:\n",
    "    for i in datanames:\n",
    "        if os.path.splitext(i)[1]=='.pts'and os.path.splitext(i)[0][0]=='c': \n",
    "            print(\"cap/\",i,file=file0,sep='')\n",
    "        if os.path.splitext(i)[1]=='.pts'and os.path.splitext(i)[0][0]=='p': \n",
    "            print(\"plat/\",i,file=file0,sep='')\n",
    "        if os.path.splitext(i)[1]=='.pts'and os.path.splitext(i)[0][0]=='v': \n",
    "            print(\"vertical/\",i,file=file0,sep='')\n"
   ]
  },
  {
   "cell_type": "code",
   "execution_count": null,
   "id": "a2fdf3f1",
   "metadata": {},
   "outputs": [],
   "source": []
  }
 ],
 "metadata": {
  "kernelspec": {
   "display_name": "Python 3",
   "language": "python",
   "name": "python3"
  },
  "language_info": {
   "codemirror_mode": {
    "name": "ipython",
    "version": 3
   },
   "file_extension": ".py",
   "mimetype": "text/x-python",
   "name": "python",
   "nbconvert_exporter": "python",
   "pygments_lexer": "ipython3",
   "version": "3.8.8"
  }
 },
 "nbformat": 4,
 "nbformat_minor": 5
}
