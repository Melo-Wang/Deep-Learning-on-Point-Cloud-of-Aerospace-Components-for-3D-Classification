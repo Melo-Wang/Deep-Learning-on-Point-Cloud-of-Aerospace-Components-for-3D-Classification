{
 "cells": [
  {
   "cell_type": "code",
   "execution_count": 15,
   "id": "fcb404f1",
   "metadata": {},
   "outputs": [],
   "source": [
    "import os\n",
    "path = \"D:/SUSTech/课题组/THU/tutorial/week7/classifer/data\"\n",
    "datanames = os.listdir(path)\n",
    "with open('label.txt','a') as file0:\n",
    "    for i in datanames:\n",
    "        if os.path.splitext(i)[1]=='.SLDPRT'and os.path.splitext(i)[0][0]=='c': \n",
    "            print(i,\" cap\",file=file0)\n",
    "        if os.path.splitext(i)[1]=='.SLDPRT'and os.path.splitext(i)[0][0]=='p': \n",
    "            print(i,\" plat\",file=file0)\n",
    "        if os.path.splitext(i)[1]=='.SLDPRT'and os.path.splitext(i)[0][0]=='v': \n",
    "            print(i,\" vertical\",file=file0)\n"
   ]
  },
  {
   "cell_type": "code",
   "execution_count": 14,
   "id": "4ef15bf9",
   "metadata": {},
   "outputs": [],
   "source": [
    "t = 5\n",
    "s = 'hello world!'\n",
    "b = 'fuck'\n",
    "with open('test.txt','a') as file0:\n",
    "    print('%s' % s,file=file0)\n",
    "    print('%s' % b,file=file0)"
   ]
  },
  {
   "cell_type": "code",
   "execution_count": null,
   "id": "36964747",
   "metadata": {},
   "outputs": [],
   "source": []
  }
 ],
 "metadata": {
  "kernelspec": {
   "display_name": "Python 3",
   "language": "python",
   "name": "python3"
  },
  "language_info": {
   "codemirror_mode": {
    "name": "ipython",
    "version": 3
   },
   "file_extension": ".py",
   "mimetype": "text/x-python",
   "name": "python",
   "nbconvert_exporter": "python",
   "pygments_lexer": "ipython3",
   "version": "3.8.8"
  }
 },
 "nbformat": 4,
 "nbformat_minor": 5
}
